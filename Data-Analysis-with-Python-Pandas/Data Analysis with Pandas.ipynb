{
 "cells": [
  {
   "cell_type": "code",
   "execution_count": 1,
   "metadata": {
    "collapsed": true
   },
   "outputs": [],
   "source": [
    "import os\n",
    "import pandas"
   ]
  },
  {
   "cell_type": "code",
   "execution_count": 3,
   "metadata": {
    "collapsed": false
   },
   "outputs": [
    {
     "data": {
      "text/plain": [
       "'D:\\\\Dropbox\\\\Udemy\\\\Python-Data-Science-and-Machine-Learning-Bootcamp\\\\Data-Analysis-with-Python-Pandas'"
      ]
     },
     "execution_count": 3,
     "metadata": {},
     "output_type": "execute_result"
    }
   ],
   "source": [
    "os.getcwd()"
   ]
  },
  {
   "cell_type": "code",
   "execution_count": 5,
   "metadata": {
    "collapsed": false
   },
   "outputs": [],
   "source": [
    "os.chdir(\"data\")"
   ]
  },
  {
   "cell_type": "code",
   "execution_count": 6,
   "metadata": {
    "collapsed": false
   },
   "outputs": [
    {
     "data": {
      "text/plain": [
       "'D:\\\\Dropbox\\\\Udemy\\\\Python-Data-Science-and-Machine-Learning-Bootcamp\\\\Data-Analysis-with-Python-Pandas\\\\data'"
      ]
     },
     "execution_count": 6,
     "metadata": {},
     "output_type": "execute_result"
    }
   ],
   "source": [
    "os.getcwd()"
   ]
  },
  {
   "cell_type": "code",
   "execution_count": 7,
   "metadata": {
    "collapsed": true
   },
   "outputs": [],
   "source": [
    "df1 = pandas.read_csv(\"Comma-Separated.txt\")"
   ]
  },
  {
   "cell_type": "code",
   "execution_count": 8,
   "metadata": {
    "collapsed": false
   },
   "outputs": [
    {
     "data": {
      "text/html": [
       "<div>\n",
       "<table border=\"1\" class=\"dataframe\">\n",
       "  <thead>\n",
       "    <tr style=\"text-align: right;\">\n",
       "      <th></th>\n",
       "      <th>Year</th>\n",
       "      <th>Month</th>\n",
       "      <th>Day</th>\n",
       "      <th>Hour</th>\n",
       "      <th>Temp</th>\n",
       "      <th>DewTemp</th>\n",
       "      <th>Pressure</th>\n",
       "      <th>WindDir</th>\n",
       "      <th>WindSpeed</th>\n",
       "      <th>Sky</th>\n",
       "      <th>Precip1</th>\n",
       "      <th>Precip6</th>\n",
       "    </tr>\n",
       "  </thead>\n",
       "  <tbody>\n",
       "    <tr>\n",
       "      <th>0</th>\n",
       "      <td>1912</td>\n",
       "      <td>4</td>\n",
       "      <td>1</td>\n",
       "      <td>6</td>\n",
       "      <td>114</td>\n",
       "      <td>94</td>\n",
       "      <td>10121</td>\n",
       "      <td>200</td>\n",
       "      <td>120</td>\n",
       "      <td>8</td>\n",
       "      <td>-9999</td>\n",
       "      <td>-9999</td>\n",
       "    </tr>\n",
       "    <tr>\n",
       "      <th>1</th>\n",
       "      <td>1912</td>\n",
       "      <td>4</td>\n",
       "      <td>1</td>\n",
       "      <td>9</td>\n",
       "      <td>146</td>\n",
       "      <td>96</td>\n",
       "      <td>10122</td>\n",
       "      <td>240</td>\n",
       "      <td>140</td>\n",
       "      <td>8</td>\n",
       "      <td>-9999</td>\n",
       "      <td>-9999</td>\n",
       "    </tr>\n",
       "    <tr>\n",
       "      <th>2</th>\n",
       "      <td>1912</td>\n",
       "      <td>4</td>\n",
       "      <td>2</td>\n",
       "      <td>6</td>\n",
       "      <td>172</td>\n",
       "      <td>122</td>\n",
       "      <td>10146</td>\n",
       "      <td>210</td>\n",
       "      <td>40</td>\n",
       "      <td>2</td>\n",
       "      <td>-9999</td>\n",
       "      <td>40</td>\n",
       "    </tr>\n",
       "    <tr>\n",
       "      <th>3</th>\n",
       "      <td>1912</td>\n",
       "      <td>4</td>\n",
       "      <td>2</td>\n",
       "      <td>9</td>\n",
       "      <td>193</td>\n",
       "      <td>-9999</td>\n",
       "      <td>10150</td>\n",
       "      <td>240</td>\n",
       "      <td>210</td>\n",
       "      <td>1</td>\n",
       "      <td>-9999</td>\n",
       "      <td>0</td>\n",
       "    </tr>\n",
       "    <tr>\n",
       "      <th>4</th>\n",
       "      <td>1912</td>\n",
       "      <td>4</td>\n",
       "      <td>2</td>\n",
       "      <td>12</td>\n",
       "      <td>188</td>\n",
       "      <td>125</td>\n",
       "      <td>10152</td>\n",
       "      <td>240</td>\n",
       "      <td>250</td>\n",
       "      <td>1</td>\n",
       "      <td>-9999</td>\n",
       "      <td>0</td>\n",
       "    </tr>\n",
       "  </tbody>\n",
       "</table>\n",
       "</div>"
      ],
      "text/plain": [
       "   Year  Month  Day  Hour  Temp  DewTemp  Pressure  WindDir  WindSpeed  Sky  \\\n",
       "0  1912      4    1     6   114       94     10121      200        120    8   \n",
       "1  1912      4    1     9   146       96     10122      240        140    8   \n",
       "2  1912      4    2     6   172      122     10146      210         40    2   \n",
       "3  1912      4    2     9   193    -9999     10150      240        210    1   \n",
       "4  1912      4    2    12   188      125     10152      240        250    1   \n",
       "\n",
       "   Precip1  Precip6  \n",
       "0    -9999    -9999  \n",
       "1    -9999    -9999  \n",
       "2    -9999       40  \n",
       "3    -9999        0  \n",
       "4    -9999        0  "
      ]
     },
     "execution_count": 8,
     "metadata": {},
     "output_type": "execute_result"
    }
   ],
   "source": [
    "df1.head()"
   ]
  },
  {
   "cell_type": "code",
   "execution_count": 9,
   "metadata": {
    "collapsed": true
   },
   "outputs": [],
   "source": [
    "df2 = pandas.read_csv(\"Space-Separated.txt\",sep=' ')"
   ]
  },
  {
   "cell_type": "code",
   "execution_count": 10,
   "metadata": {
    "collapsed": false
   },
   "outputs": [
    {
     "data": {
      "text/html": [
       "<div>\n",
       "<table border=\"1\" class=\"dataframe\">\n",
       "  <thead>\n",
       "    <tr style=\"text-align: right;\">\n",
       "      <th></th>\n",
       "      <th>Year</th>\n",
       "      <th>Month</th>\n",
       "      <th>Day</th>\n",
       "      <th>Hour</th>\n",
       "      <th>Temp</th>\n",
       "      <th>DewTemp</th>\n",
       "      <th>Pressure</th>\n",
       "      <th>WindDir</th>\n",
       "      <th>WindSpeed</th>\n",
       "      <th>Sky</th>\n",
       "      <th>Precip1</th>\n",
       "      <th>Precip6</th>\n",
       "    </tr>\n",
       "  </thead>\n",
       "  <tbody>\n",
       "    <tr>\n",
       "      <th>0</th>\n",
       "      <td>1912</td>\n",
       "      <td>4</td>\n",
       "      <td>1</td>\n",
       "      <td>6</td>\n",
       "      <td>114</td>\n",
       "      <td>94</td>\n",
       "      <td>10121</td>\n",
       "      <td>200</td>\n",
       "      <td>120</td>\n",
       "      <td>8</td>\n",
       "      <td>-9999</td>\n",
       "      <td>-9999</td>\n",
       "    </tr>\n",
       "    <tr>\n",
       "      <th>1</th>\n",
       "      <td>1912</td>\n",
       "      <td>4</td>\n",
       "      <td>1</td>\n",
       "      <td>9</td>\n",
       "      <td>146</td>\n",
       "      <td>96</td>\n",
       "      <td>10122</td>\n",
       "      <td>240</td>\n",
       "      <td>140</td>\n",
       "      <td>8</td>\n",
       "      <td>-9999</td>\n",
       "      <td>-9999</td>\n",
       "    </tr>\n",
       "    <tr>\n",
       "      <th>2</th>\n",
       "      <td>1912</td>\n",
       "      <td>4</td>\n",
       "      <td>2</td>\n",
       "      <td>6</td>\n",
       "      <td>172</td>\n",
       "      <td>122</td>\n",
       "      <td>10146</td>\n",
       "      <td>210</td>\n",
       "      <td>40</td>\n",
       "      <td>2</td>\n",
       "      <td>-9999</td>\n",
       "      <td>40</td>\n",
       "    </tr>\n",
       "    <tr>\n",
       "      <th>3</th>\n",
       "      <td>1912</td>\n",
       "      <td>4</td>\n",
       "      <td>2</td>\n",
       "      <td>9</td>\n",
       "      <td>193</td>\n",
       "      <td>-9999</td>\n",
       "      <td>10150</td>\n",
       "      <td>240</td>\n",
       "      <td>210</td>\n",
       "      <td>1</td>\n",
       "      <td>-9999</td>\n",
       "      <td>0</td>\n",
       "    </tr>\n",
       "    <tr>\n",
       "      <th>4</th>\n",
       "      <td>1912</td>\n",
       "      <td>4</td>\n",
       "      <td>2</td>\n",
       "      <td>12</td>\n",
       "      <td>188</td>\n",
       "      <td>125</td>\n",
       "      <td>10152</td>\n",
       "      <td>240</td>\n",
       "      <td>250</td>\n",
       "      <td>1</td>\n",
       "      <td>-9999</td>\n",
       "      <td>0</td>\n",
       "    </tr>\n",
       "  </tbody>\n",
       "</table>\n",
       "</div>"
      ],
      "text/plain": [
       "   Year  Month  Day  Hour  Temp  DewTemp  Pressure  WindDir  WindSpeed  Sky  \\\n",
       "0  1912      4    1     6   114       94     10121      200        120    8   \n",
       "1  1912      4    1     9   146       96     10122      240        140    8   \n",
       "2  1912      4    2     6   172      122     10146      210         40    2   \n",
       "3  1912      4    2     9   193    -9999     10150      240        210    1   \n",
       "4  1912      4    2    12   188      125     10152      240        250    1   \n",
       "\n",
       "   Precip1  Precip6  \n",
       "0    -9999    -9999  \n",
       "1    -9999    -9999  \n",
       "2    -9999       40  \n",
       "3    -9999        0  \n",
       "4    -9999        0  "
      ]
     },
     "execution_count": 10,
     "metadata": {},
     "output_type": "execute_result"
    }
   ],
   "source": [
    "df2.head()"
   ]
  },
  {
   "cell_type": "code",
   "execution_count": null,
   "metadata": {
    "collapsed": true
   },
   "outputs": [],
   "source": []
  }
 ],
 "metadata": {
  "anaconda-cloud": {},
  "kernelspec": {
   "display_name": "Python [conda root]",
   "language": "python",
   "name": "conda-root-py"
  },
  "language_info": {
   "codemirror_mode": {
    "name": "ipython",
    "version": 3
   },
   "file_extension": ".py",
   "mimetype": "text/x-python",
   "name": "python",
   "nbconvert_exporter": "python",
   "pygments_lexer": "ipython3",
   "version": "3.5.2"
  }
 },
 "nbformat": 4,
 "nbformat_minor": 1
}
